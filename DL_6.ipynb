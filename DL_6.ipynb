{
 "cells": [
  {
   "cell_type": "markdown",
   "metadata": {},
   "source": [
    "## DL 6 : Erba Lucas & Dubus Léo"
   ]
  },
  {
   "cell_type": "markdown",
   "metadata": {},
   "source": [
    "### <u>Partie 1 : Deuxième Loi de Kepler</u>"
   ]
  },
  {
   "cell_type": "code",
   "execution_count": 3,
   "metadata": {},
   "outputs": [],
   "source": [
    "def rectangle(f, x, i, j):\n",
    "    Area = 0\n",
    "    for r in range(i, j):\n",
    "        Area = Area + f[r] * (x[r + 1] - x[r])\n",
    "    return Area        "
   ]
  },
  {
   "cell_type": "code",
   "execution_count": 15,
   "metadata": {},
   "outputs": [
    {
     "name": "stdout",
     "output_type": "stream",
     "text": [
      "0.026300440406329107\n",
      "0.02626969807647976\n"
     ]
    }
   ],
   "source": [
    "import numpy as np\n",
    "import matplotlib.pyplot as plt\n",
    "from math import *\n",
    "from random import *\n",
    "\n",
    "def load_text(fichier):\n",
    "    fichier.readline()\n",
    "    fichier.readline()\n",
    "    fichier.readline()\n",
    "    fichier.readline()\n",
    "    fichier.readline()\n",
    "\n",
    "    lignes=fichier.readlines()\n",
    "\n",
    "\n",
    "    r=[]\n",
    "    theta=[]\n",
    "\n",
    "    for i in range(len(lignes)):\n",
    "        ligne=lignes[i]\n",
    "        r.append(float(ligne.split(',')[4]))\n",
    "        angle_dms=ligne.split(',')[2].split(' ')\n",
    "        angle_dms_mod=[]\n",
    "        for _ in angle_dms :\n",
    "            if _ !='':\n",
    "                angle_dms_mod.append(_)\n",
    "        theta.append(float(angle_dms_mod[0])+float(angle_dms_mod[1])/60+float(angle_dms_mod[2])/3600)\n",
    "\n",
    "    theta=np.array(theta)\n",
    "    r=np.array(r)\n",
    "    return theta,r\n",
    "\n",
    "fichier_Terre=open('terre_orbite.txt','r')\n",
    "theta_T,r_T=load_text(fichier_Terre)\n",
    "\n",
    "r_T=[r**2 for r in r_T]\n",
    "T=randint(100,400)\n",
    "\n",
    "a=randint(0,500)\n",
    "b=randint(500,600)\n",
    "print((1/T)*rectangle(r_T,theta_T,a,a+T))\n",
    "print((1/T)*rectangle(r_T,theta_T,b,b+T))"
   ]
  },
  {
   "cell_type": "markdown",
   "metadata": {},
   "source": [
    "### <u>Partie 2 : Troisième Loi de Kepler</u>"
   ]
  },
  {
   "cell_type": "code",
   "execution_count": null,
   "metadata": {},
   "outputs": [
    {
     "name": "stdout",
     "output_type": "stream",
     "text": [
      "0.307527921\n",
      "0.466688501\n",
      "0.387108211 \n",
      "\n",
      "0.718453783\n",
      "0.728232519\n",
      "0.7233431509999999 \n",
      "\n",
      "0.98330232\n",
      "1.01672535\n",
      "1.0000138349999999 \n",
      "\n",
      "1.3811625\n",
      "1.666100944\n",
      "0.7233431509999999 \n",
      "\n",
      "4.952680615\n",
      "5.453860312\n",
      "5.2032704635 \n",
      "\n",
      "9.014409307\n",
      "10.066832156\n",
      "9.540620731499999 \n",
      "\n"
     ]
    }
   ],
   "source": [
    "def load_text(fichier):\n",
    "    fichier.readline()\n",
    "    fichier.readline()\n",
    "    fichier.readline()\n",
    "    fichier.readline()\n",
    "    fichier.readline()\n",
    "\n",
    "    lignes=fichier.readlines()\n",
    "\n",
    "\n",
    "    r=[]\n",
    "    theta=[]\n",
    "\n",
    "    for i in range(len(lignes)):\n",
    "        ligne=lignes[i]\n",
    "        r.append(float(ligne.split(',')[4]))\n",
    "        angle_dms=ligne.split(',')[2].split(' ')\n",
    "        angle_dms_mod=[]\n",
    "        for _ in angle_dms :\n",
    "            if _ !='':\n",
    "                angle_dms_mod.append(_)\n",
    "        theta.append(float(angle_dms_mod[0])+float(angle_dms_mod[1])/60+float(angle_dms_mod[2])/3600)\n",
    "\n",
    "    theta=np.array(theta)\n",
    "    r=np.array(r)\n",
    "    return theta,r\n",
    "\n",
    "fichier_me=open('mercure_orbite.txt','r')\n",
    "theta_Me,r_Me=load_text(fichier_me)\n",
    "print(min(r_Me))\n",
    "print(max(r_Me))\n",
    "rmin_Me = min(r_Me)\n",
    "rmax_Me = max(r_Me)\n",
    "\n",
    "a_Me = (rmin_Me + rmax_Me)/2\n",
    "print(a_Me, \"\\n\")\n",
    "\n",
    "\n",
    "fichier_v=open('venus_orbite.txt','r')\n",
    "theta_V,r_V=load_text(fichier_v)\n",
    "print(min(r_V))\n",
    "print(max(r_V))\n",
    "rmin_V = min(r_V)\n",
    "rmax_V = max(r_V)\n",
    "\n",
    "a_V = (rmin_V + rmax_V)/2\n",
    "print(a_V, \"\\n\")\n",
    "\n",
    "fichier_Terre=open('terre_orbite.txt','r')\n",
    "theta_T,r_T=load_text(fichier_Terre)\n",
    "print(min(r_T))\n",
    "print(max(r_T))\n",
    "rmin_T = min(r_T)\n",
    "rmax_T = max(r_T)\n",
    "\n",
    "a_T = (rmin_T + rmax_T)/2\n",
    "print(a_T, \"\\n\")\n",
    "\n",
    "fichier_ma=open('mars_orbite.txt','r')\n",
    "theta_Ma,r_Ma=load_text(fichier_ma)\n",
    "print(min(r_Ma))\n",
    "print(max(r_Ma))\n",
    "rmin_Ma = min(r_Ma)\n",
    "rmax_Ma = max(r_Ma)\n",
    "\n",
    "a_Ma = (rmin_Ma + rmax_Ma)/2\n",
    "print(a_V, \"\\n\")\n",
    "\n",
    "fichier_j=open('jupiter_orbite.txt','r')\n",
    "theta_J,r_J=load_text(fichier_j)\n",
    "print(min(r_J))\n",
    "print(max(r_J))\n",
    "rmin_J = min(r_J)\n",
    "rmax_J = max(r_J)\n",
    "\n",
    "a_J = (rmin_J + rmax_J)/2\n",
    "print(a_J, \"\\n\")\n",
    "\n",
    "fichier_s=open('saturne_orbite.txt','r')\n",
    "theta_S,r_S=load_text(fichier_s)\n",
    "print(min(r_S))\n",
    "print(max(r_S))\n",
    "rmin_S = min(r_S)\n",
    "rmax_S = max(r_S)\n",
    "\n",
    "a_S = (rmin_S + rmax_S)/2\n",
    "print(a_S, \"\\n\")\n"
   ]
  },
  {
   "cell_type": "markdown",
   "metadata": {},
   "source": [
    "Pour Mercure :  \n",
    "On a donc une période T de environ 8.8\\*10<sup>1</sup> jours soit  \n",
    "    8.8\\*10<sup>1</sup>\\*24\\*60\\*60 = 7.6\\*10<sup>6</sup> s  \n",
    "Et on a un demi grand axe a qui est égal à de 3.9\\*10<sup>-1</sup> ua  \n",
    "1 ua = 1.5\\*10<sup>11</sup> donc a = 3.9\\*10<sup>-1</sup>\\*1.5\\*10<sup>11</sup> ua\n",
    "     = 5.85\\*10<sup>10</sup> m"
   ]
  },
  {
   "cell_type": "code",
   "execution_count": 1,
   "metadata": {},
   "outputs": [
    {
     "name": "stdout",
     "output_type": "stream",
     "text": [
      "2.8850914671646646e-19\n",
      "2.9461505674893608e-19\n"
     ]
    }
   ],
   "source": [
    "import math\n",
    "T = 7.6*10**6\n",
    "a = 5.85*10**10\n",
    "\n",
    "G = 6.7*10**-11\n",
    "Ms = 2*10**30\n",
    "print(T**2/a**3)\n",
    "print((4*math.pi**2)/(G*Ms))"
   ]
  },
  {
   "cell_type": "markdown",
   "metadata": {},
   "source": [
    "Pour Vénus :  \n",
    "On a donc une période T de environ 2.2\\*10<sup>2</sup> jours soit  \n",
    "    2.2\\*10<sup>2</sup>\\*24\\*60\\*60 = 2.0\\*10<sup>7</sup> s  \n",
    "Et on a un demi grand axe a qui est égal à de 7.2\\*10<sup>-1</sup> ua  \n",
    "1 ua = 1.5\\*10<sup>11</sup> donc a = 7.2\\*10<sup>-1</sup>\\*1.5\\*10<sup>11</sup> ua\n",
    "     = 1.1\\*10<sup>11</sup> m "
   ]
  },
  {
   "cell_type": "code",
   "execution_count": 2,
   "metadata": {},
   "outputs": [
    {
     "name": "stdout",
     "output_type": "stream",
     "text": [
      "3.00525920360631e-19\n",
      "2.9461505674893608e-19\n"
     ]
    }
   ],
   "source": [
    "import math\n",
    "T = 2.0*10**7\n",
    "a = 1.1*10**11 \n",
    "\n",
    "G = 6.7*10**-11\n",
    "Ms = 2*10**30\n",
    "print(T**2/a**3)\n",
    "print((4*math.pi**2)/(G*Ms))"
   ]
  },
  {
   "cell_type": "markdown",
   "metadata": {},
   "source": [
    "Pour la Terre :\n",
    "On a donc une période T de environ 3.7\\*10<sup>2</sup> jours soit  \n",
    "    3.7\\*10<sup>2</sup>\\*24\\*60\\*60 = 3.2\\*10<sup>7</sup> s  \n",
    "Et on a un demi grand axe a qui est égal à 1 ua \n",
    "1 ua = 1.5\\*10<sup>11</sup> donc a = 1.5\\*10<sup>11</sup> m"
   ]
  },
  {
   "cell_type": "code",
   "execution_count": 3,
   "metadata": {},
   "outputs": [
    {
     "name": "stdout",
     "output_type": "stream",
     "text": [
      "3.034074074074074e-19\n",
      "2.9461505674893608e-19\n"
     ]
    }
   ],
   "source": [
    "import math\n",
    "T = 3.2*10**7\n",
    "a = 1.5*10**11\n",
    "\n",
    "G = 6.7*10**-11\n",
    "Ms = 2*10**30\n",
    "print(T**2/a**3)\n",
    "print((4*math.pi**2)/(G*Ms))"
   ]
  },
  {
   "cell_type": "markdown",
   "metadata": {},
   "source": [
    "Pour Mars :  \n",
    "On a donc une période T de environ 6.9\\*10<sup>2</sup> jours soit  \n",
    "    6.9\\*10<sup>2</sup>\\*24\\*60\\*60 = 6.0\\*10<sup>7</sup> s  \n",
    "Et on a un demi grand axe a qui est égal à de 7.2\\*10<sup>-1</sup> ua  \n",
    "1 ua = 1.5\\*10<sup>11</sup> donc a = 7.2\\*10<sup>-1</sup>\\*1.5\\*10<sup>11</sup> ua\n",
    "     = 1.1\\*10<sup>11</sup> m "
   ]
  },
  {
   "cell_type": "code",
   "execution_count": 6,
   "metadata": {},
   "outputs": [
    {
     "name": "stdout",
     "output_type": "stream",
     "text": [
      "2.704733283245679e-18\n",
      "2.9461505674893608e-19\n"
     ]
    }
   ],
   "source": [
    "import math\n",
    "T = 6.0*10**7\n",
    "a = 1.1*10**11\n",
    "\n",
    "G = 6.7*10**-11\n",
    "Ms = 2*10**30\n",
    "print(T**2/a**3)\n",
    "print((4*math.pi**2)/(G*Ms))"
   ]
  },
  {
   "cell_type": "markdown",
   "metadata": {},
   "source": [
    "Pour Jupiter :  \n",
    "On a donc une période T de environ 4.3\\*10<sup>3</sup> jours soit  \n",
    "    4.3\\*10<sup>3</sup>\\*24\\*60\\*60 = 3.7\\*10<sup>8</sup> s  \n",
    "Et on a un demi grand axe a qui est égal à de 5.2 ua  \n",
    "1 ua = 1.5\\*10<sup>11</sup> donc a = 5.2\\*1.5\\*10<sup>11</sup> ua\n",
    "     = 7.8\\*10<sup>11</sup> m  "
   ]
  },
  {
   "cell_type": "code",
   "execution_count": 5,
   "metadata": {},
   "outputs": [
    {
     "name": "stdout",
     "output_type": "stream",
     "text": [
      "2.8848261096781806e-19\n",
      "2.9461505674893608e-19\n"
     ]
    }
   ],
   "source": [
    "import math\n",
    "T = 3.7*10**8\n",
    "a = 7.8*10**11\n",
    "\n",
    "G = 6.7*10**-11\n",
    "Ms = 2*10**30\n",
    "print(T**2/a**3)\n",
    "print((4*math.pi**2)/(G*Ms))"
   ]
  },
  {
   "cell_type": "markdown",
   "metadata": {},
   "source": [
    "Pour Saturne :\n",
    "On a donc une période T de environ 1.2\\*10<sup>4</sup> jours soit  \n",
    "    1.2\\*10<sup>4</sup>\\*24\\*60\\*60 = 1.0\\*10<sup>9</sup> s  \n",
    "Et on a un demi grand axe a qui est égal à de 9.5 ua  \n",
    "1 ua = 1.5\\*10<sup>11</sup> donc a = 9.5\\*1.5\\*10<sup>11</sup> ua\n",
    "     = 1.4\\*10<sup>12</sup> m "
   ]
  },
  {
   "cell_type": "code",
   "execution_count": 6,
   "metadata": {},
   "outputs": [
    {
     "name": "stdout",
     "output_type": "stream",
     "text": [
      "3.644314868804665e-19\n",
      "2.9461505674893608e-19\n"
     ]
    }
   ],
   "source": [
    "import math\n",
    "T = 1.0*10**9\n",
    "a = 1.4*10**12\n",
    "\n",
    "G = 6.7*10**-11\n",
    "Ms = 2*10**30\n",
    "print(T**2/a**3)\n",
    "print((4*math.pi**2)/(G*Ms))"
   ]
  },
  {
   "cell_type": "markdown",
   "metadata": {},
   "source": [
    "Par conséquent on montre bien que le rapport $\\frac{T^2}{a^3}$ est indépendant de la planète du système solaire, et il est bien égal à $\\frac{4\\pi^2}{GMs}$"
   ]
  },
  {
   "cell_type": "markdown",
   "metadata": {},
   "source": [
    "### <u>Orbite de transfert d'un satellite géostationnaire</u>"
   ]
  },
  {
   "cell_type": "markdown",
   "metadata": {},
   "source": [
    "1°) Montrons que la dérivée du moment cinétique est égal à 0 en O.  \n",
    "On a $\\frac{d\\vec{Lo}}{dt} = \\Sigma M_{o}\\vec{(F_{i})}$  \n",
    "Ici la seule force présente et la force d'attraction gravitationnelle entre le satellite et la Terre  \n",
    "On a donc :  \n",
    "$F_{T/M} = \\frac{-GM_{T}M_{S}}{r^2}\\vec{u_{r}}$  \n",
    "et on a $\\frac{d\\vec{Lo}}{dt} = \\overrightarrow{OM} \\land m\\vec{v}$  \n",
    "donc    \n",
    "Système : {Satellite}  \n",
    "Référentiel : Géocentrique  \n",
    "Coordonnées : \n",
    "$\\overrightarrow{OM} = r\\vec{U_{r}}$    \n",
    "$\\vec{v} = \\dot{r}\\vec{U_{r}} + r\\dot{\\theta}\\vec{U_{\\theta}}$  \n",
    "$\\vec{a} = (\\ddot{{r}}-r\\dot{\\theta}²)\\vec{U_{r}} + (2\\dot{r}\\dot{\\theta}+r\\ddot{\\theta})\\vec{U_{\\theta}} $ \n",
    "\n",
    "$M_{o}(\\vec{F_{T/S}}) = \\overrightarrow{OM} \\land \\frac{-GM_{T}M_{S}}{r^2}\\vec{u_{r}} $  \n",
    "$M_{o}(\\vec{F_{T/S}}) = \\vec{0}$ car $\\overrightarrow{OM}$ et $\\vec{U_{r}}$ sont coolinéaires  \n",
    "Donc $\\frac{d\\vec{Lo}}{dt} = \\vec{0}$  \n",
    "Donc $\\vec{L_{o}}$ est une constante  \n",
    "\n",
    "On a alors $\\vec{L_{o}} = \\overrightarrow{OM} \\land m\\vec{V}$  \n",
    "                        = $r\\vec{U_{r}} \\land m(\\frac{dr}{dt}\\vec{U_{r}} + r\\frac{d\\theta}{dt}\\vec{U_{\\theta}})$  \n",
    "                        = $mr^2\\frac{d\\theta}{dt}\\vec{U_{r}} \\land \\vec{U_{\\theta}}$  \n",
    "                        = $mr^2\\frac{d\\theta}{dt}\\vec{U_{z}} = \\overrightarrow{cst}$  \n",
    "                        = $mC\\vec{U_{z}}$  \n",
    "avec $C = r^2\\frac{d\\theta}{dt}$ constante des aires \n"
   ]
  },
  {
   "cell_type": "markdown",
   "metadata": {},
   "source": [
    "2°) En appliquant le PFD on a :  \n",
    "$\\Sigma \\overrightarrow{F_{ext}} = m\\vec{a}$  \n",
    "$\\Leftrightarrow\\frac{-GM_{T}M_{S}}{r^2}\\vec{U_{r}} = M_S(\\ddot{{r}}-r\\dot{\\theta}²)\\vec{U_{r}} + (2\\dot{r}\\dot{\\theta}+r\\ddot{\\theta})\\vec{U_{\\theta}}$  \n",
    "En prjetant sur $\\vec{U_r} :$  \n",
    "$\\Leftrightarrow \\ddot{r}-r\\dot{\\theta}²=-G\\frac{M_T}{r²}$  \n",
    "$\\Leftrightarrow \\ddot{r}=-G\\frac{M_T}{r²}+r\\dot{\\theta}²$  \n",
    "$Or~C=r²\\dot{\\theta} \\Leftrightarrow \\dot{\\theta}=\\frac{C}{r²} \\Leftrightarrow \\dot{\\theta}²=\\frac{C²}{r⁴}$  \n",
    "On a alors $\\ddot{r}=-G\\frac{M_T}{r²}+\\frac{C²}{r³}$\n"
   ]
  },
  {
   "cell_type": "markdown",
   "metadata": {},
   "source": [
    "3°)a) Le satellite étant en orbite basse circulaire on a $r=R_T$ et $\\ddot{r}=0$  \n",
    "On obtient alors $\\frac{C_T²}{r³}=G\\frac{M_T}{r²} \\Leftrightarrow C_T²=GM_TR_T \\Leftrightarrow C_T=\\sqrt{GM_TR_T}$  \n",
    "AN : $C_T=5,1\\times 10^{10}$  \n",
    "C'est à dire $C_T=1$ ured  \n",
    "  \n",
    "b) On sait que $\\vec{v}=\\dot{r}\\vec{U_r}+r\\dot{\\theta}\\vec{U_\\theta}$  \n",
    "Or $\\dot{r}=0$ car le satellite est en orbite circulaire  \n",
    "On a donc $|\\vec{v_T}|=r\\dot{\\theta}$  \n",
    "Et $C_T=R_T²\\dot{\\theta} \\Leftrightarrow |\\vec{v_T}|=\\frac{C_T}{R_T}$  \n",
    "AN : $v_T=\\frac{\\sqrt{6,674\\times{}10^{-17}\\times{}6\\times{}10^{24}\\times{}6,4\\times{}10^{3}}}{6,4\\times{}10³}=250,13 km/s$"
   ]
  },
  {
   "cell_type": "markdown",
   "metadata": {},
   "source": [
    "4°)a) Le satellite étant en orbite circulaire on a $r=R_{géo}~et~\\ddot{r}=0$  \n",
    "On obtient alors $\\frac{C_{géo}²}{R_{géo}³}=G\\frac{M_T}{R_{géo}³} \\Leftrightarrow C_{géo}²=GM_TR_{géo} \\Leftrightarrow C_{géo}=\\sqrt{GM_TR_{géo}}$  \n",
    "AN : $C_{géo}=4,1\\times 10^9$  \n",
    "C'est à dire $C_{géo}=0.1$ ured  \n",
    "  \n",
    "b)"
   ]
  },
  {
   "cell_type": "markdown",
   "metadata": {},
   "source": [
    "5)a) On rappelle que $E_m=E_{pg}+E_c$  \n",
    "On a alors $E_m=-G\\frac{M_Tm}{R_t}+\\frac{1}{2}mv²$  \n",
    "Or $v=\\frac{C_t}{R_T} \\Leftrightarrow v²=(\\frac{C_t}{R_T})²$  \n",
    "Alors $E_m=-G\\frac{M_Tm}{R_T}+\\frac{1}{2}m(\\frac{C_t}{R_T})²$  \n",
    "  \n",
    "b)"
   ]
  },
  {
   "cell_type": "markdown",
   "metadata": {},
   "source": [
    "6°) En posant $y=\\dot{r}$"
   ]
  },
  {
   "cell_type": "code",
   "execution_count": 10,
   "metadata": {},
   "outputs": [],
   "source": [
    "C=1\n",
    "\n",
    "def sat(liste_y,liste_t):\n",
    "    return [ liste_y[1] , C**2/liste_y[0]**3-1/(liste_y[0]**2) , C/(liste_y[0]**2) ]\n"
   ]
  },
  {
   "cell_type": "code",
   "execution_count": 49,
   "metadata": {},
   "outputs": [
    {
     "data": {
      "image/png": "[encoded data removed]",
      "text/plain": [
       "<Figure size 432x288 with 1 Axes>"
      ]
     },
     "metadata": {
      "needs_background": "light"
     },
     "output_type": "display_data"
    }
   ],
   "source": [
    "from scipy.integrate import *\n",
    "\n",
    "#Trajectoire elliptique\n",
    "liste_t = np.linspace(0,10,1000)\n",
    "liste_y0 = np.array([1,0,0])\n",
    "\n",
    "C=0.3\n",
    "#C=1\n",
    "liste_out = odeint(sat,liste_y0,liste_t)\n",
    "\n",
    "plt.plot(np.sin(liste_out[:, 2])*liste_out[:, 0], np.cos(liste_out[:,2])*liste_out[:, 0], \"r-\", lw=4) # tracé de la courbe paramétré\n",
    "plt.xticks(np.linspace(-2,2,5,endpoint=True)) # graduations en x\n",
    "plt.yticks(np.linspace(-2,2,5,endpoint=True)) # graduations en x\n",
    "plt.grid(True) # grille\n",
    "plt.axis(\"equal\") # représentation même échelle sur x et y\n",
    "plt.axis([-2,2,-2,2]) # valeurs limites des axes\n",
    "plt.show() # affichage fig\n"
   ]
  },
  {
   "cell_type": "code",
   "execution_count": 53,
   "metadata": {},
   "outputs": [
    {
     "data": {
      "image/png": "[encoded data removed]",
      "text/plain": [
       "<Figure size 432x288 with 1 Axes>"
      ]
     },
     "metadata": {
      "needs_background": "light"
     },
     "output_type": "display_data"
    }
   ],
   "source": [
    "#Trajectoire hyperbolique\n",
    "liste_t = np.linspace(0,10,num=1000)\n",
    "liste_y0 = np.array([1,0,0])\n",
    "\n",
    "C=1.5\n",
    "#C=1\n",
    "liste_out = odeint(sat,liste_y0,liste_t)\n",
    "\n",
    "plt.plot(np.sin(liste_out[:, 2])*liste_out[:, 0], np.cos(liste_out[:,2])*liste_out[:, 0], \"r-\", lw=4) # tracé de la courbe paramétré\n",
    "plt.xticks(np.linspace(-10,10,21,endpoint=True)) # graduations en x\n",
    "plt.yticks(np.linspace(-10,10,21,endpoint=True)) # graduations en x\n",
    "plt.grid(True) # grille\n",
    "plt.axis(\"equal\") # représentation même échelle sur x et y\n",
    "plt.axis([-10,10,-10,10]) # valeurs limites des axes\n",
    "plt.show() # affichage fig"
   ]
  },
  {
   "cell_type": "code",
   "execution_count": 79,
   "metadata": {},
   "outputs": [
    {
     "data": {
      "image/png": "[encoded data removed]",
      "text/plain": [
       "<Figure size 432x288 with 1 Axes>"
      ]
     },
     "metadata": {
      "needs_background": "light"
     },
     "output_type": "display_data"
    }
   ],
   "source": [
    "#Trajectoire parabolique\n",
    "liste_t = np.linspace(0,2,num=1000)\n",
    "liste_y0 = np.array([1,0,0])\n",
    "\n",
    "C=0.8\n",
    "\n",
    "liste_out = odeint(sat,liste_y0,liste_t)\n",
    "\n",
    "plt.plot(np.sin(liste_out[:, 2])*liste_out[:, 0], np.cos(liste_out[:,2])*liste_out[:, 0], \"r-\", lw=4) # tracé de la courbe paramétré\n",
    "plt.xticks(np.linspace(-10,10,21,endpoint=True)) # graduations en x\n",
    "plt.yticks(np.linspace(-10,10,21,endpoint=True)) # graduations en x\n",
    "plt.grid(True) # grille\n",
    "plt.axis(\"equal\") # représentation même échelle sur x et y\n",
    "plt.axis([-10,10,-10,10]) # valeurs limites des axes\n",
    "plt.show() # affichage fig"
   ]
  },
  {
   "cell_type": "code",
   "execution_count": 81,
   "metadata": {},
   "outputs": [
    {
     "data": {
      "text/plain": [
       "(-7.5, 7.5, -7.5, 7.5)"
      ]
     },
     "execution_count": 81,
     "metadata": {},
     "output_type": "execute_result"
    },
    {
     "data": {
      "image/png": "[encoded data removed]",
      "text/plain": [
       "<Figure size 432x288 with 1 Axes>"
      ]
     },
     "metadata": {
      "needs_background": "light"
     },
     "output_type": "display_data"
    }
   ],
   "source": [
    "r_geo=6.59\n",
    "\n",
    "t = np.arange(0, 2.0*np.pi, 0.01) # tableau des valeurs de temps\n",
    "plt.plot(np.sin(t), np.cos(t), \"r-\", lw=4) # tracé de la courbe paramétré\n",
    "plt.plot(6.59*np.sin(t), r_geo*np.cos(t), \"b-\", lw=4) # tracé de la courbe paramétré\n",
    "plt.xticks(np.linspace(-7,7,15,endpoint=True)) # graduations en x\n",
    "plt.yticks(np.linspace(-7,7,15,endpoint=True)) # graduations en x\n",
    "plt.grid(True) # grille\n",
    "plt.axis(\"equal\") # représentation même échelle sur x et y\n",
    "plt.axis([-7.5,7.5,-7.5,7.5]) # valeurs limites des axes"
   ]
  },
  {
   "cell_type": "code",
   "execution_count": 90,
   "metadata": {},
   "outputs": [
    {
     "name": "stdout",
     "output_type": "stream",
     "text": [
      "C_trans = 0.10483398437500001\n"
     ]
    }
   ],
   "source": [
    "def find_C_trans(liste_y0, t, r_geo, tol=0.01):\n",
    "    C_min, C_max = 0.1, 10.0\n",
    "    while C_max - C_min > tol:\n",
    "        C_mid = (C_min + C_max) / 2\n",
    "        sol = odeint(sat, liste_y0, t)\n",
    "        r = sol[:, 0]\n",
    "        if np.max(r) > r_geo:\n",
    "            C_max = C_mid\n",
    "        else:\n",
    "            C_min = C_mid\n",
    "    return (C_min + C_max) / 2\n",
    "\n",
    "C_trans = find_C_trans(liste_y0, t, r_geo)\n",
    "print(f'C_trans = {C_trans}')"
   ]
  },
  {
   "cell_type": "code",
   "execution_count": 109,
   "metadata": {},
   "outputs": [
    {
     "data": {
      "image/png": "[encoded data removed]",
      "text/plain": [
       "<Figure size 432x288 with 1 Axes>"
      ]
     },
     "metadata": {
      "needs_background": "light"
     },
     "output_type": "display_data"
    }
   ],
   "source": [
    "C=1.3\n",
    "\n",
    "circle_low = plt.Circle((0, 0), 1, color='blue', fill=False, linestyle='dotted', label='Orbite basse')\n",
    "\n",
    "# Tracer l'orbite géostationnaire\n",
    "circle_geo = plt.Circle((0, 0), r_geo, color='green', fill=False, linestyle='dotted', label='Orbite géostationnaire')\n",
    "\n",
    "# Résoudre le système pour C_trans trouvé\n",
    "sol_trans = odeint(sat, liste_y0, t)\n",
    "r_trans = sol_trans[:, 0]\n",
    "theta_trans = sol_trans[:, 2]\n",
    "x_trans = r_trans * np.cos(theta_trans)\n",
    "y_trans = r_trans * np.sin(theta_trans)\n",
    "\n",
    "fig, ax = plt.subplots()\n",
    "ax.add_artist(circle_low)\n",
    "ax.add_artist(circle_geo)\n",
    "ax.plot(x_trans, y_trans, label=f'Orbite de transfert C_trans = {C_trans:.4f}', color='red')\n",
    "\n",
    "ax.set_xlim(-r_geo - 1, r_geo + 1)\n",
    "ax.set_ylim(-r_geo - 1, r_geo + 1)\n",
    "ax.set_aspect('equal')\n",
    "ax.set_xlabel('x')\n",
    "ax.set_ylabel('y')\n",
    "plt.legend()\n",
    "plt.title('Orbites et orbite de transfert calculée')\n",
    "plt.grid()\n",
    "plt.show()\n"
   ]
  },
  {
   "cell_type": "code",
   "execution_count": null,
   "metadata": {},
   "outputs": [],
   "source": []
  }
 ],
 "metadata": {
  "kernelspec": {
   "display_name": "Python 3",
   "language": "python",
   "name": "python3"
  },
  "language_info": {
   "codemirror_mode": {
    "name": "ipython",
    "version": 3
   },
   "file_extension": ".py",
   "mimetype": "text/x-python",
   "name": "python",
   "nbconvert_exporter": "python",
   "pygments_lexer": "ipython3",
   "version": "3.10.12"
  }
 },
 "nbformat": 4,
 "nbformat_minor": 2
}
