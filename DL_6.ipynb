{
 "cells": [
  {
   "cell_type": "markdown",
   "metadata": {},
   "source": [
    "## DL 6 : Erba Lucas & Dubus Léo"
   ]
  },
  {
   "cell_type": "markdown",
   "metadata": {},
   "source": [
    "### <u>Partie 1 : Deuxième Loi de Kepler</u>"
   ]
  },
  {
   "cell_type": "code",
   "execution_count": 40,
   "metadata": {},
   "outputs": [],
   "source": [
    "def rectangle(f, x, i, j):\n",
    "    Area = 0\n",
    "    for r in range(i, j):\n",
    "        Area = Area + f[r] * (x[r + 1] - x[r])\n",
    "    return Area        "
   ]
  },
  {
   "cell_type": "markdown",
   "metadata": {},
   "source": [
    "La 2 aucune idée"
   ]
  },
  {
   "cell_type": "markdown",
   "metadata": {},
   "source": [
    "### <u>Partie 2 : Troisième Loi de Kepler</u>"
   ]
  },
  {
   "cell_type": "code",
   "execution_count": 41,
   "metadata": {},
   "outputs": [
    {
     "name": "stdout",
     "output_type": "stream",
     "text": [
      "0.307527921\n",
      "0.466688501\n",
      "0.387108211 \n",
      "\n",
      "0.718453783\n",
      "0.728232519\n",
      "0.7233431509999999 \n",
      "\n",
      "0.98330232\n",
      "1.01672535\n",
      "1.0000138349999999 \n",
      "\n",
      "1.3811625\n",
      "1.666100944\n",
      "0.7233431509999999 \n",
      "\n",
      "4.952680615\n",
      "5.453860312\n",
      "5.2032704635 \n",
      "\n",
      "9.014409307\n",
      "10.066832156\n",
      "9.540620731499999 \n",
      "\n"
     ]
    }
   ],
   "source": [
    "import numpy as np\n",
    "import matplotlib.pyplot as plt\n",
    "from math import *\n",
    "\n",
    "def load_text(fichier):\n",
    "    fichier.readline()\n",
    "    fichier.readline()\n",
    "    fichier.readline()\n",
    "    fichier.readline()\n",
    "    fichier.readline()\n",
    "\n",
    "    lignes=fichier.readlines()\n",
    "\n",
    "\n",
    "    r=[]\n",
    "    theta=[]\n",
    "\n",
    "    for i in range(len(lignes)):\n",
    "        ligne=lignes[i]\n",
    "        r.append(float(ligne.split(',')[4]))\n",
    "        angle_dms=ligne.split(',')[2].split(' ')\n",
    "        angle_dms_mod=[]\n",
    "        for _ in angle_dms :\n",
    "            if _ !='':\n",
    "                angle_dms_mod.append(_)\n",
    "        theta.append(float(angle_dms_mod[0])+float(angle_dms_mod[1])/60+float(angle_dms_mod[2])/3600)\n",
    "\n",
    "    theta=np.array(theta)\n",
    "    r=np.array(r)\n",
    "    return theta,r\n",
    "\n",
    "fichier_me=open('mercure_orbite.txt','r')\n",
    "theta_Me,r_Me=load_text(fichier_me)\n",
    "print(min(r_Me))\n",
    "print(max(r_Me))\n",
    "rmin_Me = min(r_Me)\n",
    "rmax_Me = max(r_Me)\n",
    "\n",
    "a_Me = (rmin_Me + rmax_Me)/2\n",
    "print(a_Me, \"\\n\")\n",
    "\n",
    "\n",
    "fichier_v=open('venus_orbite.txt','r')\n",
    "theta_V,r_V=load_text(fichier_v)\n",
    "print(min(r_V))\n",
    "print(max(r_V))\n",
    "rmin_V = min(r_V)\n",
    "rmax_V = max(r_V)\n",
    "\n",
    "a_V = (rmin_V + rmax_V)/2\n",
    "print(a_V, \"\\n\")\n",
    "\n",
    "fichier_Terre=open('terre_orbite.txt','r')\n",
    "theta_T,r_T=load_text(fichier_Terre)\n",
    "print(min(r_T))\n",
    "print(max(r_T))\n",
    "rmin_T = min(r_T)\n",
    "rmax_T = max(r_T)\n",
    "\n",
    "a_T = (rmin_T + rmax_T)/2\n",
    "print(a_T, \"\\n\")\n",
    "\n",
    "fichier_ma=open('mars_orbite.txt','r')\n",
    "theta_Ma,r_Ma=load_text(fichier_ma)\n",
    "print(min(r_Ma))\n",
    "print(max(r_Ma))\n",
    "rmin_Ma = min(r_Ma)\n",
    "rmax_Ma = max(r_Ma)\n",
    "\n",
    "a_Ma = (rmin_Ma + rmax_Ma)/2\n",
    "print(a_V, \"\\n\")\n",
    "\n",
    "fichier_j=open('jupiter_orbite.txt','r')\n",
    "theta_J,r_J=load_text(fichier_j)\n",
    "print(min(r_J))\n",
    "print(max(r_J))\n",
    "rmin_J = min(r_J)\n",
    "rmax_J = max(r_J)\n",
    "\n",
    "a_J = (rmin_J + rmax_J)/2\n",
    "print(a_J, \"\\n\")\n",
    "\n",
    "fichier_s=open('saturne_orbite.txt','r')\n",
    "theta_S,r_S=load_text(fichier_s)\n",
    "print(min(r_S))\n",
    "print(max(r_S))\n",
    "rmin_S = min(r_S)\n",
    "rmax_S = max(r_S)\n",
    "\n",
    "a_S = (rmin_S + rmax_S)/2\n",
    "print(a_S, \"\\n\")\n"
   ]
  },
  {
   "cell_type": "markdown",
   "metadata": {},
   "source": [
    "Pour Mercure :  \n",
    "On a donc une période T de environ 8.8\\*10<sup>1</sup> jours soit  \n",
    "    8.8\\*10<sup>1</sup>\\*24\\*60\\*60 = 7.6\\*10<sup>6</sup> s  \n",
    "Et on a un demi grand axe a qui est égal à de 3.9\\*10<sup>-1</sup> ua  \n",
    "1 ua = 1.5\\*10<sup>11</sup> donc a = 3.9\\*10<sup>-1</sup>\\*1.5\\*10<sup>11</sup> ua\n",
    "     = 5.85\\*10<sup>10</sup> m"
   ]
  },
  {
   "cell_type": "code",
   "execution_count": 1,
   "metadata": {},
   "outputs": [
    {
     "name": "stdout",
     "output_type": "stream",
     "text": [
      "2.8850914671646646e-19\n",
      "2.9461505674893608e-19\n"
     ]
    }
   ],
   "source": [
    "import math\n",
    "T = 7.6*10**6\n",
    "a = 5.85*10**10\n",
    "\n",
    "G = 6.7*10**-11\n",
    "Ms = 2*10**30\n",
    "print(T**2/a**3)\n",
    "print((4*math.pi**2)/(G*Ms))"
   ]
  },
  {
   "cell_type": "markdown",
   "metadata": {},
   "source": [
    "Pour Vénus :  \n",
    "On a donc une période T de environ 2.2\\*10<sup>2</sup> jours soit  \n",
    "    2.2\\*10<sup>2</sup>\\*24\\*60\\*60 = 2.0\\*10<sup>7</sup> s  \n",
    "Et on a un demi grand axe a qui est égal à de 7.2\\*10<sup>-1</sup> ua  \n",
    "1 ua = 1.5\\*10<sup>11</sup> donc a = 7.2\\*10<sup>-1</sup>\\*1.5\\*10<sup>11</sup> ua\n",
    "     = 1.1\\*10<sup>11</sup> m "
   ]
  },
  {
   "cell_type": "code",
   "execution_count": 2,
   "metadata": {},
   "outputs": [
    {
     "name": "stdout",
     "output_type": "stream",
     "text": [
      "3.00525920360631e-19\n",
      "2.9461505674893608e-19\n"
     ]
    }
   ],
   "source": [
    "import math\n",
    "T = 2.0*10**7\n",
    "a = 1.1*10**11 \n",
    "\n",
    "G = 6.7*10**-11\n",
    "Ms = 2*10**30\n",
    "print(T**2/a**3)\n",
    "print((4*math.pi**2)/(G*Ms))"
   ]
  },
  {
   "cell_type": "markdown",
   "metadata": {},
   "source": [
    "Pour la Terre :\n",
    "On a donc une période T de environ 3.7\\*10<sup>2</sup> jours soit  \n",
    "    3.7\\*10<sup>2</sup>\\*24\\*60\\*60 = 3.2\\*10<sup>7</sup> s  \n",
    "Et on a un demi grand axe a qui est égal à 1 ua \n",
    "1 ua = 1.5\\*10<sup>11</sup> donc a = 1.5\\*10<sup>11</sup> m"
   ]
  },
  {
   "cell_type": "code",
   "execution_count": 3,
   "metadata": {},
   "outputs": [
    {
     "name": "stdout",
     "output_type": "stream",
     "text": [
      "3.034074074074074e-19\n",
      "2.9461505674893608e-19\n"
     ]
    }
   ],
   "source": [
    "import math\n",
    "T = 3.2*10**7\n",
    "a = 1.5*10**11\n",
    "\n",
    "G = 6.7*10**-11\n",
    "Ms = 2*10**30\n",
    "print(T**2/a**3)\n",
    "print((4*math.pi**2)/(G*Ms))"
   ]
  },
  {
   "cell_type": "markdown",
   "metadata": {},
   "source": [
    "Pour Mars :  \n",
    "On a donc une période T de environ 6.9\\*10<sup>2</sup> jours soit  \n",
    "    6.9\\*10<sup>2</sup>\\*24\\*60\\*60 = 6.0\\*10<sup>7</sup> s  \n",
    "Et on a un demi grand axe a qui est égal à de 7.2\\*10<sup>-1</sup> ua  \n",
    "1 ua = 1.5\\*10<sup>11</sup> donc a = 7.2\\*10<sup>-1</sup>\\*1.5\\*10<sup>11</sup> ua\n",
    "     = 1.1\\*10<sup>11</sup> m "
   ]
  },
  {
   "cell_type": "code",
   "execution_count": 4,
   "metadata": {},
   "outputs": [
    {
     "name": "stdout",
     "output_type": "stream",
     "text": [
      "2.704733283245679e-18\n",
      "2.9461505674893608e-19\n"
     ]
    }
   ],
   "source": [
    "import math\n",
    "T = 6.0*10**7\n",
    "a = 1.1*10**11\n",
    "\n",
    "G = 6.7*10**-11\n",
    "Ms = 2*10**30\n",
    "print(T**2/a**3)\n",
    "print((4*math.pi**2)/(G*Ms))"
   ]
  },
  {
   "cell_type": "markdown",
   "metadata": {},
   "source": [
    "Pour Jupiter :  \n",
    "On a donc une période T de environ 4.3\\*10<sup>3</sup> jours soit  \n",
    "    4.3\\*10<sup>3</sup>\\*24\\*60\\*60 = 3.7\\*10<sup>8</sup> s  \n",
    "Et on a un demi grand axe a qui est égal à de 5.2 ua  \n",
    "1 ua = 1.5\\*10<sup>11</sup> donc a = 5.2\\*1.5\\*10<sup>11</sup> ua\n",
    "     = 7.8\\*10<sup>11</sup> m  "
   ]
  },
  {
   "cell_type": "code",
   "execution_count": 5,
   "metadata": {},
   "outputs": [
    {
     "name": "stdout",
     "output_type": "stream",
     "text": [
      "2.8848261096781806e-19\n",
      "2.9461505674893608e-19\n"
     ]
    }
   ],
   "source": [
    "import math\n",
    "T = 3.7*10**8\n",
    "a = 7.8*10**11\n",
    "\n",
    "G = 6.7*10**-11\n",
    "Ms = 2*10**30\n",
    "print(T**2/a**3)\n",
    "print((4*math.pi**2)/(G*Ms))"
   ]
  },
  {
   "cell_type": "markdown",
   "metadata": {},
   "source": [
    "Pour Saturne :\n",
    "On a donc une période T de environ 1.2\\*10<sup>4</sup> jours soit  \n",
    "    1.2\\*10<sup>4</sup>\\*24\\*60\\*60 = 1.0\\*10<sup>9</sup> s  \n",
    "Et on a un demi grand axe a qui est égal à de 9.5 ua  \n",
    "1 ua = 1.5\\*10<sup>11</sup> donc a = 9.5\\*1.5\\*10<sup>11</sup> ua\n",
    "     = 1.4\\*10<sup>12</sup> m "
   ]
  },
  {
   "cell_type": "code",
   "execution_count": 6,
   "metadata": {},
   "outputs": [
    {
     "name": "stdout",
     "output_type": "stream",
     "text": [
      "3.644314868804665e-19\n",
      "2.9461505674893608e-19\n"
     ]
    }
   ],
   "source": [
    "import math\n",
    "T = 1.0*10**9\n",
    "a = 1.4*10**12\n",
    "\n",
    "G = 6.7*10**-11\n",
    "Ms = 2*10**30\n",
    "print(T**2/a**3)\n",
    "print((4*math.pi**2)/(G*Ms))"
   ]
  },
  {
   "cell_type": "markdown",
   "metadata": {},
   "source": [
    "Par conséquent on montre bien que le rapport $\\frac{T^2}{a^3}$ est indépendant de la planète du système solaire, et il est bien égal à $\\frac{4\\pi^2}{GMs}$"
   ]
  },
  {
   "cell_type": "markdown",
   "metadata": {},
   "source": [
    "### <u>Orbite de transfert d'un satellite géostationnaire</u>"
   ]
  },
  {
   "cell_type": "markdown",
   "metadata": {},
   "source": [
    "1°) Montrons que la dérivée du moment cinétique est égal à 0 en O.  \n",
    "On a $\\frac{d\\vec{Lo}}{dt} = \\Sigma M_{o}\\vec{(F_{i})}$  \n",
    "Ici la seule force présente et la force d'attraction gravitationnelle entre le satellite et la Terre  \n",
    "On a donc :  \n",
    "$F_{T/M} = \\frac{-GM_{T}M_{S}}{r^2}\\vec{u_{r}}$  \n",
    "et on a $\\frac{d\\vec{Lo}}{dt} = \\vec{OM} \\land m\\vec{v}$  \n",
    "donc    \n",
    "Système : {Satellite}  \n",
    "Référentiel : Géocentrique  \n",
    "Coordonnées : \n",
    "$\\vec{OM} = r\\vec{U_{r}}$    \n",
    "$\\vec{V} = \\dot{r}\\vec{U_{r}} + r\\dot{\\theta}\\vec{U_{\\theta}}$  \n",
    "$\\vec{a} = \\ddot{{r}}\\vec{U_{r}} +\\dot{r}\\dot{\\theta}\\vec{U_{\\theta}} + $ \n",
    "\n",
    "$M_{o}(\\vec{F_{T/S}}) = \\vec{OM} \\land \\frac{-GM_{T}M_{S}}{r^2}\\vec{u_{r}} $  \n",
    "                    = $\\vec{0}$ car $\\vec{OM}$ et $\\vec{U_{r}}$ sont coolinéaires  \n",
    "donc $\\frac{d\\vec{Lo}}{dt} = \\vec{0}$\n",
    "donc $\\vec{L_{o}}$ est une constante  \n",
    "\n",
    "On a alors $\\vec{L_{o}} = \\vec{OM} \\land m\\vec{V}$  \n",
    "                        = $r\\vec{U_{r}} \\land m(\\frac{dr}{dt}\\vec{U_{r}} + r\\frac{d\\theta}{dt}\\vec{U_{\\theta}})$  \n",
    "                        = $mr^2\\frac{d\\theta}{dt}\\vec{U_{r}} \\land \\vec{U_{\\theta}}$  \n",
    "                        = $mr^2\\frac{d\\theta}{dt}\\vec{U_{z}} = \\vec{cst}$  \n",
    "                        = $mC\\vec{U_{z}}$  \n",
    "avec $C = r^2\\frac{d\\theta}{dt}$ constante des aires \n"
   ]
  },
  {
   "cell_type": "markdown",
   "metadata": {},
   "source": [
    "2°) En appliquant le PFD on a :  \n",
    "$\\Sigma \\vec{F_{ext}} = m\\vec{a}$  \n",
    "$\\frac{-GM_{T}M_{S}}{r^2}\\vec{U_{r}} = m($\n",
    "\n",
    "$\\dot{r}$\n",
    "peut on faire des der . "
   ]
  }
 ],
 "metadata": {
  "kernelspec": {
   "display_name": "Python 3",
   "language": "python",
   "name": "python3"
  },
  "language_info": {
   "codemirror_mode": {
    "name": "ipython",
    "version": 3
   },
   "file_extension": ".py",
   "mimetype": "text/x-python",
   "name": "python",
   "nbconvert_exporter": "python",
   "pygments_lexer": "ipython3",
   "version": "3.10.12"
  }
 },
 "nbformat": 4,
 "nbformat_minor": 2
}
